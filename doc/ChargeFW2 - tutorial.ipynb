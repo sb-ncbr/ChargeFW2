{
 "cells": [
  {
   "cell_type": "markdown",
   "metadata": {},
   "source": [
    "# ChargeFW2 Python bindings"
   ]
  },
  {
   "cell_type": "markdown",
   "metadata": {},
   "source": [
    "This tutorial shows how to use the Python bindings to the ChargeFW2 application, the computation core of Atomic Charge Calculator II (https://acc2.ncbr.muni.cz/)."
   ]
  },
  {
   "cell_type": "markdown",
   "metadata": {},
   "source": [
    "## Installation"
   ]
  },
  {
   "cell_type": "markdown",
   "metadata": {},
   "source": [
    "The ChargeFW2 is a C++ application which must be compiled and installed first. See the README: https://github.com/krab1k/ChargeFW2"
   ]
  },
  {
   "cell_type": "markdown",
   "metadata": {},
   "source": [
    "To use the Python module, it might be necessary to point Python interpreter to the correct library's location. This can be done by setting a PYTHONPATH environment variable. Additionally, we need to specify CHARGEFW2_INSTALL_DIR environment variable so that the library knows how to access its metadata (e.g., pte.csv). Assuming we installed ChargeFW2 into the directory `/opt/chargefw2`, we set:"
   ]
  },
  {
   "cell_type": "markdown",
   "metadata": {},
   "source": [
    "```bash\n",
    "export PYTHONPATH=/opt/chargefw2/lib\n",
    "export CHARGEFW2_INSTALL_DIR=/opt/chargefw2\n",
    "```"
   ]
  },
  {
   "cell_type": "markdown",
   "metadata": {},
   "source": [
    "Now we are ready to run Python and use the ChargeFW2 module."
   ]
  },
  {
   "cell_type": "markdown",
   "metadata": {},
   "source": [
    "## Usage"
   ]
  },
  {
   "cell_type": "markdown",
   "metadata": {},
   "source": [
    "First, we import the Python module:"
   ]
  },
  {
   "cell_type": "code",
   "execution_count": 1,
   "metadata": {},
   "outputs": [],
   "source": [
    "import chargefw2"
   ]
  },
  {
   "cell_type": "markdown",
   "metadata": {},
   "source": [
    "### Loading the molecules"
   ]
  },
  {
   "cell_type": "markdown",
   "metadata": {},
   "source": [
    "Then we load the molecules. Supported formats are: SDF, PDB, mmCIF and Mol2. You can also specify the following optional parameters when loading molecules:\n",
    "```\n",
    "read_hetatm         Read HETATM records from PDB/mmCIF files \n",
    "ignore_water        Discard water molecules from PDB/mmCIF files \n",
    "permissive_types    Use similar parameters for similar atom/bond types if no exact match is found\n",
    "```"
   ]
  },
  {
   "cell_type": "code",
   "execution_count": 2,
   "metadata": {},
   "outputs": [],
   "source": [
    "molecules = chargefw2.Molecules('molecules.sdf', read_hetatm=True, ignore_water=False, permissive_types=True)"
   ]
  },
  {
   "cell_type": "markdown",
   "metadata": {},
   "source": [
    "Let's see how many molecules we have loaded:"
   ]
  },
  {
   "cell_type": "code",
   "execution_count": 3,
   "metadata": {},
   "outputs": [
    {
     "data": {
      "text/plain": [
       "47"
      ]
     },
     "execution_count": 3,
     "metadata": {},
     "output_type": "execute_result"
    }
   ],
   "source": [
    "len(molecules)"
   ]
  },
  {
   "cell_type": "markdown",
   "metadata": {},
   "source": [
    "We can also see additional info:"
   ]
  },
  {
   "cell_type": "code",
   "execution_count": 4,
   "metadata": {},
   "outputs": [
    {
     "data": {
      "text/plain": [
       "{'total_molecules': 47,\n",
       " 'total_atoms': 1531,\n",
       " 'atom_type_counts': [{'symbol': 'N', 'count': 101},\n",
       "  {'symbol': 'O', 'count': 118},\n",
       "  {'symbol': 'C', 'count': 545},\n",
       "  {'symbol': 'H', 'count': 751},\n",
       "  {'symbol': 'S', 'count': 16}]}"
      ]
     },
     "execution_count": 4,
     "metadata": {},
     "output_type": "execute_result"
    }
   ],
   "source": [
    "molecules.info().to_dict()"
   ]
  },
  {
   "cell_type": "markdown",
   "metadata": {},
   "source": [
    "### Available methods and parameters"
   ]
  },
  {
   "cell_type": "markdown",
   "metadata": {},
   "source": [
    "ChargeFW2 provides implementation of multiple charge calculation methods. Method is represented by the following c++ struct:\n",
    "\n",
    "```c++\n",
    "struct MethodMetadata {\n",
    "    std::string name;\n",
    "    std::string internal_name;\n",
    "    std::string full_name;\n",
    "    std::optional<std::string> publication;\n",
    "    std::string type;\n",
    "    uint16_t priority;\n",
    "};\n",
    "```\n",
    "\n",
    "The full list can be obtained by:"
   ]
  },
  {
   "cell_type": "code",
   "execution_count": 5,
   "metadata": {},
   "outputs": [
    {
     "data": {
      "text/plain": [
       "['sqeqp',\n",
       " 'eem',\n",
       " 'abeem',\n",
       " 'sfkeem',\n",
       " 'qeq',\n",
       " 'smpqeq',\n",
       " 'eqeq',\n",
       " 'eqeqc',\n",
       " 'delre',\n",
       " 'peoe',\n",
       " 'mpeoe',\n",
       " 'gdac',\n",
       " 'sqe',\n",
       " 'sqeq0',\n",
       " 'mgc',\n",
       " 'kcm',\n",
       " 'denr',\n",
       " 'tsef',\n",
       " 'charge2',\n",
       " 'veem',\n",
       " 'formal',\n",
       " 'dummy']"
      ]
     },
     "execution_count": 5,
     "metadata": {},
     "output_type": "execute_result"
    }
   ],
   "source": [
    "methods = chargefw2.get_available_methods()\n",
    "[method.internal_name for method in methods]"
   ]
  },
  {
   "cell_type": "markdown",
   "metadata": {},
   "source": [
    "All methods are described in the documentation: https://acc2.ncbr.muni.cz/static/assets/methods.pdf"
   ]
  },
  {
   "cell_type": "markdown",
   "metadata": {},
   "source": [
    "Some methods require parameters to be set for calculation. They are defined by the following c++ struct:\n",
    "```cpp\n",
    "struct ParametersMetadata {\n",
    "    std::string full_name;\n",
    "    std::string internal_name;\n",
    "    std::string method;\n",
    "    std::string publication;\n",
    "};\n",
    "```\n",
    "To see the list of parameters available for a given method, use:"
   ]
  },
  {
   "cell_type": "code",
   "execution_count": 6,
   "metadata": {},
   "outputs": [
    {
     "data": {
      "text/plain": [
       "['GDAC_00_original']"
      ]
     },
     "execution_count": 6,
     "metadata": {},
     "output_type": "execute_result"
    }
   ],
   "source": [
    "parameters_list = chargefw2.get_available_parameters('gdac')\n",
    "[parameters.internal_name for parameters in parameters_list]"
   ]
  },
  {
   "cell_type": "markdown",
   "metadata": {},
   "source": [
    "However, not all methods and parameters can be used for every set of molecules. Applicable combinations can be listed by using the `get_suitable_methods` function. The empty parameter list `[]` denotes that the method does not use parameters:"
   ]
  },
  {
   "cell_type": "code",
   "execution_count": 7,
   "metadata": {},
   "outputs": [
    {
     "data": {
      "text/plain": [
       "{'sqeqp': ['SQEqp_10_Schindler2021_CCD_gen'],\n",
       " 'eem': ['EEM_00_NEEMP_ccd2016_npa',\n",
       "  'EEM_00_NEEMP_ccd2016_npa2',\n",
       "  'EEM_05_NEEMP_ccd2016_mpa',\n",
       "  'EEM_05_NEEMP_ccd2016_mpa2',\n",
       "  'EEM_10_Cheminf_b3lyp_aim',\n",
       "  'EEM_10_Cheminf_b3lyp_mpa',\n",
       "  'EEM_10_Cheminf_b3lyp_npa',\n",
       "  'EEM_10_Cheminf_hf_aim',\n",
       "  'EEM_10_Cheminf_hf_mpa',\n",
       "  'EEM_10_Cheminf_hf_npa',\n",
       "  'EEM_40_Svob2007_cbeg2',\n",
       "  'EEM_40_Svob2007_chal2',\n",
       "  'EEM_40_Svob2007_cmet2',\n",
       "  'EEM_40_Svob2007_hm2',\n",
       "  'EEM_60_Ionescu2013_npa_gas',\n",
       "  'EEM_60_Ionescu2013_npa_pcm',\n",
       "  'EEM_65_Ionescu2013_mpa_gas',\n",
       "  'EEM_65_Ionescu2013_mpa_pcm'],\n",
       " 'qeq': ['QEq_00_original'],\n",
       " 'eqeq': [],\n",
       " 'peoe': ['PEOE_00_original'],\n",
       " 'mpeoe': ['MPEOE_00_original'],\n",
       " 'gdac': ['GDAC_00_original'],\n",
       " 'sqe': ['SQE_10_Schindler2021_CCD_gen'],\n",
       " 'sqeq0': ['SQEq0_10_Schindler2021_CCD_gen'],\n",
       " 'mgc': [],\n",
       " 'kcm': ['KCM_00_original'],\n",
       " 'denr': ['DENR_00_from_QEq'],\n",
       " 'tsef': ['TSEF_00_from_QEq'],\n",
       " 'veem': [],\n",
       " 'formal': [],\n",
       " 'dummy': []}"
      ]
     },
     "execution_count": 7,
     "metadata": {},
     "output_type": "execute_result"
    }
   ],
   "source": [
    "suitable = chargefw2.get_suitable_methods(molecules)\n",
    "{ method.internal_name: [params.internal_name for params in parameters_list] for method, parameters_list in suitable }"
   ]
  },
  {
   "cell_type": "markdown",
   "metadata": {},
   "source": [
    "You can also find the best parameters for given molecules and method:"
   ]
  },
  {
   "cell_type": "code",
   "execution_count": 8,
   "metadata": {},
   "outputs": [
    {
     "data": {
      "text/plain": [
       "'EEM_00_NEEMP_ccd2016_npa'"
      ]
     },
     "execution_count": 8,
     "metadata": {},
     "output_type": "execute_result"
    }
   ],
   "source": [
    "best = chargefw2.get_best_parameters(molecules, 'eem')\n",
    "best.internal_name"
   ]
  },
  {
   "cell_type": "markdown",
   "metadata": {},
   "source": [
    "### Calculating charges"
   ]
  },
  {
   "cell_type": "markdown",
   "metadata": {},
   "source": [
    "Now, we are ready to calculate the charges. To do this, we use the `calculate_charges` function. It requires set of molecules and a method name with optional parameters name:"
   ]
  },
  {
   "cell_type": "code",
   "execution_count": 9,
   "metadata": {},
   "outputs": [
    {
     "name": "stdout",
     "output_type": "stream",
     "text": [
      "Help on built-in function calculate_charges in module chargefw2:\n",
      "\n",
      "calculate_charges(...) method of builtins.PyCapsule instance\n",
      "    calculate_charges(molecules: chargefw2.Molecules, method_name: str, parameters_name: Optional[str] = None, chg_out_dir: Optional[str] = None) -> Dict[str, List[float]]\n",
      "\n",
      "    Calculate partial atomic charges for a given molecules and method\n",
      "\n"
     ]
    }
   ],
   "source": [
    "help(chargefw2.calculate_charges)"
   ]
  },
  {
   "cell_type": "markdown",
   "metadata": {},
   "source": [
    "First, we use EEM with a particular parameter set:"
   ]
  },
  {
   "cell_type": "code",
   "execution_count": 10,
   "metadata": {},
   "outputs": [],
   "source": [
    "charges_eem = chargefw2.calculate_charges(molecules, 'eem', 'EEM_00_NEEMP_ccd2016_npa')"
   ]
  },
  {
   "cell_type": "markdown",
   "metadata": {},
   "source": [
    "Second, we can try another method, e.g., SQE+qp: "
   ]
  },
  {
   "cell_type": "code",
   "execution_count": 11,
   "metadata": {},
   "outputs": [],
   "source": [
    "charges_sqeqp = chargefw2.calculate_charges(molecules, 'sqeqp', 'SQEqp_10_Schindler2021_CCD_gen')"
   ]
  },
  {
   "cell_type": "markdown",
   "metadata": {},
   "source": [
    "The type of the results is a dictionary, the keys are the names of the molecules taken from the input file, the values are the list of charges (doubles):"
   ]
  },
  {
   "cell_type": "code",
   "execution_count": 12,
   "metadata": {},
   "outputs": [
    {
     "data": {
      "text/plain": [
       "'NSC_100000'"
      ]
     },
     "execution_count": 12,
     "metadata": {},
     "output_type": "execute_result"
    }
   ],
   "source": [
    "next(iter(charges_sqeqp))"
   ]
  },
  {
   "cell_type": "code",
   "execution_count": 13,
   "metadata": {},
   "outputs": [
    {
     "data": {
      "text/plain": [
       "[-0.4013101729679659,\n",
       " -0.49561754801827207,\n",
       " -0.5320169779840946,\n",
       " -0.19271326471408015,\n",
       " -0.18177030535595046,\n",
       " -0.1790840703015261,\n",
       " -0.18607445608895054,\n",
       " -0.20711936087690122,\n",
       " -0.028827174054946152,\n",
       " -0.22546219919455587,\n",
       " -0.15770951799946373,\n",
       " 0.16633318542675285,\n",
       " -0.08248127574078104,\n",
       " -0.18100334661131823,\n",
       " -0.16626188101220674,\n",
       " 0.3955367506629113,\n",
       " 0.5663927957688,\n",
       " -0.17843021301267623,\n",
       " 0.20252704483948394,\n",
       " 0.20368248805611636,\n",
       " 0.20211436774927075,\n",
       " 0.20923268026389172,\n",
       " 0.20102006067141365,\n",
       " 0.21035760217244368,\n",
       " 0.20756160194174492,\n",
       " 0.2082682456581313,\n",
       " 0.2146511589792457,\n",
       " 0.21343042546931654,\n",
       " 0.1947733562741633]"
      ]
     },
     "execution_count": 13,
     "metadata": {},
     "output_type": "execute_result"
    }
   ],
   "source": [
    "charges_sqeqp['NSC_100000']"
   ]
  },
  {
   "cell_type": "markdown",
   "metadata": {},
   "source": [
    "Now, we can save the charges to a file:"
   ]
  },
  {
   "cell_type": "code",
   "execution_count": 14,
   "metadata": {},
   "outputs": [],
   "source": [
    "chargefw2.save_charges(charges_sqeqp, molecules, 'sqeqp', 'SQEqp_10_Schindler2021_CCD_gen', \".\")"
   ]
  },
  {
   "cell_type": "markdown",
   "metadata": {},
   "source": [
    "### (Optional) Plotting the charges"
   ]
  },
  {
   "cell_type": "markdown",
   "metadata": {},
   "source": [
    "Finally, we can create a simple correlation plot to visually compare the calculated charges:"
   ]
  },
  {
   "cell_type": "code",
   "execution_count": 15,
   "metadata": {},
   "outputs": [],
   "source": [
    "import matplotlib.pyplot as plt"
   ]
  },
  {
   "cell_type": "code",
   "execution_count": 16,
   "metadata": {},
   "outputs": [
    {
     "data": {
      "text/plain": [
       "<matplotlib.collections.PathCollection at 0x7f4c8e9ae000>"
      ]
     },
     "execution_count": 16,
     "metadata": {},
     "output_type": "execute_result"
    },
    {
     "data": {
      "image/png": "[encoded data removed]",
      "text/plain": [
       "<Figure size 500x500 with 1 Axes>"
      ]
     },
     "metadata": {},
     "output_type": "display_data"
    }
   ],
   "source": [
    "xs = charges_eem['NSC_100000']\n",
    "ys = charges_sqeqp['NSC_100000']\n",
    "fig, ax = plt.subplots(1, 1, figsize=(5, 5))\n",
    "low = min(xs + ys)\n",
    "high = max(xs + ys)\n",
    "ax.set_xlim(low, high)\n",
    "ax.set_ylim(low, high)\n",
    "ax.set_aspect('equal')\n",
    "ax.plot([low, high], [low, high], c='grey')\n",
    "ax.scatter(xs, ys)"
   ]
  }
 ],
 "metadata": {
  "kernelspec": {
   "display_name": "Python 3",
   "language": "python",
   "name": "python3"
  },
  "language_info": {
   "codemirror_mode": {
    "name": "ipython",
    "version": 3
   },
   "file_extension": ".py",
   "mimetype": "text/x-python",
   "name": "python",
   "nbconvert_exporter": "python",
   "pygments_lexer": "ipython3",
   "version": "3.12.3"
  }
 },
 "nbformat": 4,
 "nbformat_minor": 4
}
